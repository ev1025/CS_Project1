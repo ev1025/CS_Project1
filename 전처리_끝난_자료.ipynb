{
  "nbformat": 4,
  "nbformat_minor": 0,
  "metadata": {
    "colab": {
      "name": "전처리 끝난 자료.ipynb",
      "provenance": [],
      "collapsed_sections": [],
      "authorship_tag": "ABX9TyOvTIAQC1GNfKSfYMZ6+R/P",
      "include_colab_link": true
    },
    "kernelspec": {
      "name": "python3",
      "display_name": "Python 3"
    },
    "language_info": {
      "name": "python"
    }
  },
  "cells": [
    {
      "cell_type": "markdown",
      "metadata": {
        "id": "view-in-github",
        "colab_type": "text"
      },
      "source": [
        "<a href=\"https://colab.research.google.com/github/ev1025/code-states-project/blob/main/%EC%A0%84%EC%B2%98%EB%A6%AC_%EB%81%9D%EB%82%9C_%EC%9E%90%EB%A3%8C.ipynb\" target=\"_parent\"><img src=\"https://colab.research.google.com/assets/colab-badge.svg\" alt=\"Open In Colab\"/></a>"
      ]
    },
    {
      "cell_type": "markdown",
      "source": [
        "1. 지역에 따라서 선호하는 게임 장르가 다를까 라는 질문에 대답을 하셔야합니다.\n",
        "2. 연도별 게임의 트렌드가 있을까 라는 질문에 대답을 하셔야합니다.\n",
        "3. 출고량이 높은 게임에 대한 분석 및 시각화 프로세스가 포함되어야 합니다.\n",
        "\n",
        "EDA, Feature Engineering, Data Manipulation, Data Visualization, Data\n",
        "Wrangling   \n",
        "Sprint 2   \n",
        "Bayesian, Confidence Interval, Hypothesis Test, AB Test   \n",
        "Sprint 3   \n",
        "Linear Algebra, Dimensionality Reduction, PCA, Clustering, Gradient Descent   \n",
        "\n",
        "\n",
        "Name : 게임의 이름입니다.    \n",
        "Platform : 게임이 지원되는 플랫폼의 이름입니다    \n",
        "Year : 게임이 출시된 연도입니다.    \n",
        "Genre : 게임의 장르입니다.    \n",
        "Publisher : 게임을 제작한 회사입니다.    \n",
        "NA_Sales : 북미지역에서의 출고량입니다.   \n",
        "EU_Sales : 유럽지역에서의 출고량입니다.    \n",
        "JP_Sales : 일본지역에서의 출고량입니다.   \n",
        "Other_Sales : 기타지역에서의 출고량입니다.    "
      ],
      "metadata": {
        "id": "n8Orz580Tqay"
      }
    },
    {
      "cell_type": "code",
      "source": [
        "# from google.colab import files\n",
        "# files.upload();"
      ],
      "metadata": {
        "id": "cRnB10rDJ2sE"
      },
      "execution_count": null,
      "outputs": []
    },
    {
      "cell_type": "code",
      "execution_count": null,
      "metadata": {
        "id": "ketu7eKDIESh"
      },
      "outputs": [],
      "source": [
        "import pandas as pd\n",
        "import numpy as np\n",
        "import sympy as sp\n",
        "import matplotlib.pyplot as plt\n",
        "import seaborn as sns\n",
        "import math"
      ]
    },
    {
      "cell_type": "code",
      "source": [
        "rawdata = pd.read_csv('vgames2.csv')\n",
        "df = pd.read_csv('vgames2.csv')\n",
        "df = df.iloc[:,1:]"
      ],
      "metadata": {
        "id": "aX61tAJLKI1r"
      },
      "execution_count": null,
      "outputs": []
    },
    {
      "cell_type": "code",
      "source": [
        "rawdata.iloc[4765,3]"
      ],
      "metadata": {
        "colab": {
          "base_uri": "https://localhost:8080/"
        },
        "id": "3c9tvq_KUqNQ",
        "outputId": "1abdc952-4d98-4afc-8007-2a5c0ee6332a"
      },
      "execution_count": null,
      "outputs": [
        {
          "output_type": "execute_result",
          "data": {
            "text/plain": [
              "2003.0"
            ]
          },
          "metadata": {},
          "execution_count": 4
        }
      ]
    },
    {
      "cell_type": "code",
      "source": [
        "# df.info()"
      ],
      "metadata": {
        "id": "vRTswScEcdpe"
      },
      "execution_count": null,
      "outputs": []
    },
    {
      "cell_type": "code",
      "source": [
        "# df[df.Year.isnull()] # 년도 결측값 확인"
      ],
      "metadata": {
        "id": "oIrBCOlWciq7"
      },
      "execution_count": null,
      "outputs": []
    },
    {
      "cell_type": "code",
      "source": [
        "# 판매량 데이터 높은 값만 수정\n",
        "df.iat[6949,3] = 2004\n",
        "df.iat[16275,3] = 1978\n",
        "df.iat[13327,3] = 2001\n",
        "df.iat[31,3] = 2007\n",
        "df.iat[3347,3] = 2008\n",
        "df.iat[3562,3] = 2006\n",
        "df.iat[8529,3] = 2008\n",
        "df.iat[4181,3] = 2007\n",
        "df.iat[5720,3] = 1980\n",
        "df.iat[2130,3] = 2006\n",
        "df.iat[10965,3] = 2004"
      ],
      "metadata": {
        "id": "78tlZ1a4hLya"
      },
      "execution_count": null,
      "outputs": []
    },
    {
      "cell_type": "code",
      "source": [
        "df.dropna(axis=0, subset=['Year'],inplace=True) # 나머지 결측치\n",
        "df.reset_index(inplace=True, drop= True)\n",
        "df.Year = df.Year.astype(int)\n"
      ],
      "metadata": {
        "id": "kNq5_02JlYtT"
      },
      "execution_count": null,
      "outputs": []
    },
    {
      "cell_type": "code",
      "source": [
        "# df[df['Genre'].isnull()]"
      ],
      "metadata": {
        "id": "UgIwtaTnl4pN"
      },
      "execution_count": null,
      "outputs": []
    },
    {
      "cell_type": "code",
      "source": [
        "# df.Genre.value_counts() # 장르종류"
      ],
      "metadata": {
        "id": "mrqQx2RImSBX"
      },
      "execution_count": null,
      "outputs": []
    },
    {
      "cell_type": "code",
      "source": [
        "# 판매량 높은 장르 결측값 등록\n",
        "df.iat[1946,4] = 'Role-Playing' \n",
        "df.iat[9348,4] = 'Adventure'\n",
        "df.iat[4523,4] = 'Misc'\n",
        "df.iat[16316,4] = 'Racing'\n",
        "df.iat[3871,4] = 'Sports'\n",
        "df.iat[15268,4] = 'Role-Playing'\n",
        "df.iat[12135,4] = 'Adventure'"
      ],
      "metadata": {
        "id": "XHwwcSLimgWk"
      },
      "execution_count": null,
      "outputs": []
    },
    {
      "cell_type": "code",
      "source": [
        "df.dropna(axis = 0 , subset=['Genre'], inplace=True)\n",
        "df.reset_index(inplace=True, drop=True)"
      ],
      "metadata": {
        "id": "8yL9FuUsoPXE"
      },
      "execution_count": null,
      "outputs": []
    },
    {
      "cell_type": "code",
      "source": [
        "# df[df['Publisher'].isna()]"
      ],
      "metadata": {
        "id": "0PFe0jihqhjv"
      },
      "execution_count": null,
      "outputs": []
    },
    {
      "cell_type": "code",
      "source": [
        "df.dropna(axis = 0 , subset=['Publisher'],inplace = True)  # Publisher 높은 사항없어서 다 제거\n",
        "df.reset_index(inplace=True, drop=True)"
      ],
      "metadata": {
        "id": "ZEGWh5QGthJ8"
      },
      "execution_count": null,
      "outputs": []
    },
    {
      "cell_type": "code",
      "source": [
        "# df.duplicated().sum()"
      ],
      "metadata": {
        "id": "sxYq6LSgxL3u"
      },
      "execution_count": null,
      "outputs": []
    },
    {
      "cell_type": "code",
      "source": [
        "# df.info()"
      ],
      "metadata": {
        "id": "0dr3H6k9xYqY"
      },
      "execution_count": null,
      "outputs": []
    },
    {
      "cell_type": "code",
      "source": [
        "df.NA_Sales = df.NA_Sales.str.replace(\"M\",\"\").str.replace('K','000').astype(float) # 출고량의 M값과 K값 정리\n",
        "K_index = df[df['NA_Sales'] >10]\n",
        "K_index = K_index['NA_Sales']\n",
        "K_1000 = K_index/1000000\n",
        "df.loc[K_1000.index,'NA_Sales'] = K_1000\n",
        "df['NA_Sales'] = round(df['NA_Sales'],2)\n",
        "\n",
        "df.EU_Sales = df.EU_Sales.str.replace('M','').str.replace('K','000').astype(float)\n",
        "K_index2 = df[df['EU_Sales']>10]\n",
        "K_index2 = K_index2['EU_Sales']\n",
        "K_2000 = K_index2/1000000\n",
        "df.loc[K_2000.index,'EU_Sales'] = K_2000\n",
        "df['EU_Sales'] = round(df['EU_Sales'],2)\n",
        "\n",
        "df.JP_Sales = df.JP_Sales.str.replace('M','').str.replace('K','000').astype(float)\n",
        "k_index3 = df[df['JP_Sales']>10]\n",
        "k_index3 = k_index3['JP_Sales']\n",
        "k_3000 = k_index3/1000000\n",
        "df.loc[k_3000.index,'JP_Sales'] = k_3000\n",
        "df['JP_Sales'] = round(df['JP_Sales'],2)\n",
        "\n",
        "df.Other_Sales = df.Other_Sales.str.replace('M','').str.replace('K','000').astype(float)\n",
        "k_index4 = df[df['Other_Sales'] >10]\n",
        "k_index4 = k_index4['Other_Sales']\n",
        "k_4000 = k_index4/1000000\n",
        "df.loc[k_4000.index,'Other_Sales'] = k_4000\n",
        "df.Other_Sales = round(df.Other_Sales,2)"
      ],
      "metadata": {
        "id": "DpVas5YIyM7C"
      },
      "execution_count": null,
      "outputs": []
    },
    {
      "cell_type": "code",
      "source": [
        "year_200 = df[df['Year']<10]\n",
        "year_200 = year_200.astype(str)\n",
        "y200 = '200'+year_200['Year']\n",
        "\n",
        "year_20 = df[(df['Year']>=10) & (df['Year']<80) ]\n",
        "year_20 = year_20.astype(str)\n",
        "y20 = '20'+year_20['Year']\n",
        "\n",
        "year19 = df[(df['Year']>=80) & (df['Year']<100) ]\n",
        "year19 = year19.astype('str')\n",
        "y19 = '19' + year19['Year']\n"
      ],
      "metadata": {
        "id": "2YiNGQ3gIbIC"
      },
      "execution_count": null,
      "outputs": []
    },
    {
      "cell_type": "code",
      "source": [
        "df.loc[y200.index,'Year'] = y200\n",
        "df.loc[y20.index,'Year'] = y20\n",
        "df.loc[y19.index,'Year']=y19\n",
        "df.Year = df.Year.astype(int)"
      ],
      "metadata": {
        "id": "Oq_CqMZ0RJSG"
      },
      "execution_count": null,
      "outputs": []
    },
    {
      "cell_type": "code",
      "source": [
        "Sales_sum = (df.loc[:,'NA_Sales']+df.loc[:,'EU_Sales']+df.loc[:,'JP_Sales']+df.loc[:,'Other_Sales']) \n",
        "df['Sales_sum'] = Sales_sum  # 출고량 합계"
      ],
      "metadata": {
        "id": "N0SPGOQBGLi8"
      },
      "execution_count": null,
      "outputs": []
    },
    {
      "cell_type": "code",
      "source": [
        "# df.duplicated().sum()"
      ],
      "metadata": {
        "id": "_REQdoWQZMe8"
      },
      "execution_count": null,
      "outputs": []
    },
    {
      "cell_type": "code",
      "source": [
        "# df.Platform.value_counts()  \n",
        "# 장르의 종류 및 개수 확인\n",
        "# 휴대용 게임: WiiU DS 3DS PSP PSV GBA SAT GB NG SCD WS\n",
        "# 콘솔 게임 : Wii PS PS2 PS3 PS4 XB X360 XOne GC N64 SNES NES 2600 DC GEN 3DO TG16 GG PCFX\n",
        "# PC 게임 : PC"
      ],
      "metadata": {
        "id": "W8rhjQXiLiKc"
      },
      "execution_count": null,
      "outputs": []
    },
    {
      "cell_type": "code",
      "source": [
        "hand  = [\"WiiU\", \"DS\", \"3DS\",  \"PSP\", \"PSV\", \"GBA\", \"SAT\", \"GB\", \"NG\", \"SCD\", \"WS\"]  \n",
        "\n",
        "    df['Platform'] = df['Platform'].replace(i, \"0\")\n",
        "\n",
        "consol = [\"Wii\", \"PS\", \"PS2\", \"PS3\", \"PS4\",  \"XB\",  \"X360\", \"XOne\", \"GC\", \"N64\", \"SNES\", \"NES\", \"2600\", \"DC\", \"GEN\", \"3DO\", \"TG16\", \"GG\", \"PCFX\"]\n",
        "for j in consol:\n",
        "    df['Platform'] = df['Platform'].replace(j,\"1\")\n",
        "df['Platform'] = df['Platform'].replace('PC',\"2\")\n",
        "\n",
        "df[df['Platform'].str.contains('([0-9])')==False] # 바뀌지 않은 것 있는지 확인\n",
        "\n",
        "# 휴대용 : 0 , 콘솔 : 1 , PC : 2"
      ],
      "metadata": {
        "colab": {
          "base_uri": "https://localhost:8080/",
          "height": 86
        },
        "id": "ghvHecxKsZvZ",
        "outputId": "c1ad57ee-7b2b-4964-b343-ce2565436559"
      },
      "execution_count": null,
      "outputs": [
        {
          "output_type": "stream",
          "name": "stderr",
          "text": [
            "/usr/local/lib/python3.7/dist-packages/ipykernel_launcher.py:10: UserWarning: This pattern has match groups. To actually get the groups, use str.extract.\n",
            "  # Remove the CWD from sys.path while we load stuff.\n"
          ]
        },
        {
          "output_type": "execute_result",
          "data": {
            "text/plain": [
              "Empty DataFrame\n",
              "Columns: [Name, Platform, Year, Genre, Publisher, NA_Sales, EU_Sales, JP_Sales, Other_Sales]\n",
              "Index: []"
            ],
            "text/html": [
              "\n",
              "  <div id=\"df-d942c116-86d8-4221-9faf-69959b81a8c0\">\n",
              "    <div class=\"colab-df-container\">\n",
              "      <div>\n",
              "<style scoped>\n",
              "    .dataframe tbody tr th:only-of-type {\n",
              "        vertical-align: middle;\n",
              "    }\n",
              "\n",
              "    .dataframe tbody tr th {\n",
              "        vertical-align: top;\n",
              "    }\n",
              "\n",
              "    .dataframe thead th {\n",
              "        text-align: right;\n",
              "    }\n",
              "</style>\n",
              "<table border=\"1\" class=\"dataframe\">\n",
              "  <thead>\n",
              "    <tr style=\"text-align: right;\">\n",
              "      <th></th>\n",
              "      <th>Name</th>\n",
              "      <th>Platform</th>\n",
              "      <th>Year</th>\n",
              "      <th>Genre</th>\n",
              "      <th>Publisher</th>\n",
              "      <th>NA_Sales</th>\n",
              "      <th>EU_Sales</th>\n",
              "      <th>JP_Sales</th>\n",
              "      <th>Other_Sales</th>\n",
              "    </tr>\n",
              "  </thead>\n",
              "  <tbody>\n",
              "  </tbody>\n",
              "</table>\n",
              "</div>\n",
              "      <button class=\"colab-df-convert\" onclick=\"convertToInteractive('df-d942c116-86d8-4221-9faf-69959b81a8c0')\"\n",
              "              title=\"Convert this dataframe to an interactive table.\"\n",
              "              style=\"display:none;\">\n",
              "        \n",
              "  <svg xmlns=\"http://www.w3.org/2000/svg\" height=\"24px\"viewBox=\"0 0 24 24\"\n",
              "       width=\"24px\">\n",
              "    <path d=\"M0 0h24v24H0V0z\" fill=\"none\"/>\n",
              "    <path d=\"M18.56 5.44l.94 2.06.94-2.06 2.06-.94-2.06-.94-.94-2.06-.94 2.06-2.06.94zm-11 1L8.5 8.5l.94-2.06 2.06-.94-2.06-.94L8.5 2.5l-.94 2.06-2.06.94zm10 10l.94 2.06.94-2.06 2.06-.94-2.06-.94-.94-2.06-.94 2.06-2.06.94z\"/><path d=\"M17.41 7.96l-1.37-1.37c-.4-.4-.92-.59-1.43-.59-.52 0-1.04.2-1.43.59L10.3 9.45l-7.72 7.72c-.78.78-.78 2.05 0 2.83L4 21.41c.39.39.9.59 1.41.59.51 0 1.02-.2 1.41-.59l7.78-7.78 2.81-2.81c.8-.78.8-2.07 0-2.86zM5.41 20L4 18.59l7.72-7.72 1.47 1.35L5.41 20z\"/>\n",
              "  </svg>\n",
              "      </button>\n",
              "      \n",
              "  <style>\n",
              "    .colab-df-container {\n",
              "      display:flex;\n",
              "      flex-wrap:wrap;\n",
              "      gap: 12px;\n",
              "    }\n",
              "\n",
              "    .colab-df-convert {\n",
              "      background-color: #E8F0FE;\n",
              "      border: none;\n",
              "      border-radius: 50%;\n",
              "      cursor: pointer;\n",
              "      display: none;\n",
              "      fill: #1967D2;\n",
              "      height: 32px;\n",
              "      padding: 0 0 0 0;\n",
              "      width: 32px;\n",
              "    }\n",
              "\n",
              "    .colab-df-convert:hover {\n",
              "      background-color: #E2EBFA;\n",
              "      box-shadow: 0px 1px 2px rgba(60, 64, 67, 0.3), 0px 1px 3px 1px rgba(60, 64, 67, 0.15);\n",
              "      fill: #174EA6;\n",
              "    }\n",
              "\n",
              "    [theme=dark] .colab-df-convert {\n",
              "      background-color: #3B4455;\n",
              "      fill: #D2E3FC;\n",
              "    }\n",
              "\n",
              "    [theme=dark] .colab-df-convert:hover {\n",
              "      background-color: #434B5C;\n",
              "      box-shadow: 0px 1px 3px 1px rgba(0, 0, 0, 0.15);\n",
              "      filter: drop-shadow(0px 1px 2px rgba(0, 0, 0, 0.3));\n",
              "      fill: #FFFFFF;\n",
              "    }\n",
              "  </style>\n",
              "\n",
              "      <script>\n",
              "        const buttonEl =\n",
              "          document.querySelector('#df-d942c116-86d8-4221-9faf-69959b81a8c0 button.colab-df-convert');\n",
              "        buttonEl.style.display =\n",
              "          google.colab.kernel.accessAllowed ? 'block' : 'none';\n",
              "\n",
              "        async function convertToInteractive(key) {\n",
              "          const element = document.querySelector('#df-d942c116-86d8-4221-9faf-69959b81a8c0');\n",
              "          const dataTable =\n",
              "            await google.colab.kernel.invokeFunction('convertToInteractive',\n",
              "                                                     [key], {});\n",
              "          if (!dataTable) return;\n",
              "\n",
              "          const docLinkHtml = 'Like what you see? Visit the ' +\n",
              "            '<a target=\"_blank\" href=https://colab.research.google.com/notebooks/data_table.ipynb>data table notebook</a>'\n",
              "            + ' to learn more about interactive tables.';\n",
              "          element.innerHTML = '';\n",
              "          dataTable['output_type'] = 'display_data';\n",
              "          await google.colab.output.renderOutput(dataTable, element);\n",
              "          const docLink = document.createElement('div');\n",
              "          docLink.innerHTML = docLinkHtml;\n",
              "          element.appendChild(docLink);\n",
              "        }\n",
              "      </script>\n",
              "    </div>\n",
              "  </div>\n",
              "  "
            ]
          },
          "metadata": {},
          "execution_count": 31
        }
      ]
    },
    {
      "cell_type": "code",
      "source": [
        "portable = df.query('Platform == \"0\"')\n",
        "consol = df.query('Platform == \"1\"')\n",
        "pc = df.query('Platform == \"2\"')\n",
        "\n",
        "\n",
        "portable = portable.iloc[:,[2,9]]\n",
        "\n",
        "portable.set_index('Year')"
      ],
      "metadata": {
        "id": "dnOffXN0Vuq_",
        "colab": {
          "base_uri": "https://localhost:8080/",
          "height": 455
        },
        "outputId": "f4f6c3ff-0d7a-41f2-c7d5-40b813935ff6"
      },
      "execution_count": null,
      "outputs": [
        {
          "output_type": "execute_result",
          "data": {
            "text/plain": [
              "      Sales_sum\n",
              "Year           \n",
              "2008       0.04\n",
              "2010       0.02\n",
              "2010       0.04\n",
              "2005       0.14\n",
              "2005       0.19\n",
              "...         ...\n",
              "2012       0.03\n",
              "2006       0.06\n",
              "2007       0.02\n",
              "2005       0.01\n",
              "2013       0.38\n",
              "\n",
              "[5448 rows x 1 columns]"
            ],
            "text/html": [
              "\n",
              "  <div id=\"df-a77f74f0-9d54-4fdf-8b8b-b39462cd3aa8\">\n",
              "    <div class=\"colab-df-container\">\n",
              "      <div>\n",
              "<style scoped>\n",
              "    .dataframe tbody tr th:only-of-type {\n",
              "        vertical-align: middle;\n",
              "    }\n",
              "\n",
              "    .dataframe tbody tr th {\n",
              "        vertical-align: top;\n",
              "    }\n",
              "\n",
              "    .dataframe thead th {\n",
              "        text-align: right;\n",
              "    }\n",
              "</style>\n",
              "<table border=\"1\" class=\"dataframe\">\n",
              "  <thead>\n",
              "    <tr style=\"text-align: right;\">\n",
              "      <th></th>\n",
              "      <th>Sales_sum</th>\n",
              "    </tr>\n",
              "    <tr>\n",
              "      <th>Year</th>\n",
              "      <th></th>\n",
              "    </tr>\n",
              "  </thead>\n",
              "  <tbody>\n",
              "    <tr>\n",
              "      <th>2008</th>\n",
              "      <td>0.04</td>\n",
              "    </tr>\n",
              "    <tr>\n",
              "      <th>2010</th>\n",
              "      <td>0.02</td>\n",
              "    </tr>\n",
              "    <tr>\n",
              "      <th>2010</th>\n",
              "      <td>0.04</td>\n",
              "    </tr>\n",
              "    <tr>\n",
              "      <th>2005</th>\n",
              "      <td>0.14</td>\n",
              "    </tr>\n",
              "    <tr>\n",
              "      <th>2005</th>\n",
              "      <td>0.19</td>\n",
              "    </tr>\n",
              "    <tr>\n",
              "      <th>...</th>\n",
              "      <td>...</td>\n",
              "    </tr>\n",
              "    <tr>\n",
              "      <th>2012</th>\n",
              "      <td>0.03</td>\n",
              "    </tr>\n",
              "    <tr>\n",
              "      <th>2006</th>\n",
              "      <td>0.06</td>\n",
              "    </tr>\n",
              "    <tr>\n",
              "      <th>2007</th>\n",
              "      <td>0.02</td>\n",
              "    </tr>\n",
              "    <tr>\n",
              "      <th>2005</th>\n",
              "      <td>0.01</td>\n",
              "    </tr>\n",
              "    <tr>\n",
              "      <th>2013</th>\n",
              "      <td>0.38</td>\n",
              "    </tr>\n",
              "  </tbody>\n",
              "</table>\n",
              "<p>5448 rows × 1 columns</p>\n",
              "</div>\n",
              "      <button class=\"colab-df-convert\" onclick=\"convertToInteractive('df-a77f74f0-9d54-4fdf-8b8b-b39462cd3aa8')\"\n",
              "              title=\"Convert this dataframe to an interactive table.\"\n",
              "              style=\"display:none;\">\n",
              "        \n",
              "  <svg xmlns=\"http://www.w3.org/2000/svg\" height=\"24px\"viewBox=\"0 0 24 24\"\n",
              "       width=\"24px\">\n",
              "    <path d=\"M0 0h24v24H0V0z\" fill=\"none\"/>\n",
              "    <path d=\"M18.56 5.44l.94 2.06.94-2.06 2.06-.94-2.06-.94-.94-2.06-.94 2.06-2.06.94zm-11 1L8.5 8.5l.94-2.06 2.06-.94-2.06-.94L8.5 2.5l-.94 2.06-2.06.94zm10 10l.94 2.06.94-2.06 2.06-.94-2.06-.94-.94-2.06-.94 2.06-2.06.94z\"/><path d=\"M17.41 7.96l-1.37-1.37c-.4-.4-.92-.59-1.43-.59-.52 0-1.04.2-1.43.59L10.3 9.45l-7.72 7.72c-.78.78-.78 2.05 0 2.83L4 21.41c.39.39.9.59 1.41.59.51 0 1.02-.2 1.41-.59l7.78-7.78 2.81-2.81c.8-.78.8-2.07 0-2.86zM5.41 20L4 18.59l7.72-7.72 1.47 1.35L5.41 20z\"/>\n",
              "  </svg>\n",
              "      </button>\n",
              "      \n",
              "  <style>\n",
              "    .colab-df-container {\n",
              "      display:flex;\n",
              "      flex-wrap:wrap;\n",
              "      gap: 12px;\n",
              "    }\n",
              "\n",
              "    .colab-df-convert {\n",
              "      background-color: #E8F0FE;\n",
              "      border: none;\n",
              "      border-radius: 50%;\n",
              "      cursor: pointer;\n",
              "      display: none;\n",
              "      fill: #1967D2;\n",
              "      height: 32px;\n",
              "      padding: 0 0 0 0;\n",
              "      width: 32px;\n",
              "    }\n",
              "\n",
              "    .colab-df-convert:hover {\n",
              "      background-color: #E2EBFA;\n",
              "      box-shadow: 0px 1px 2px rgba(60, 64, 67, 0.3), 0px 1px 3px 1px rgba(60, 64, 67, 0.15);\n",
              "      fill: #174EA6;\n",
              "    }\n",
              "\n",
              "    [theme=dark] .colab-df-convert {\n",
              "      background-color: #3B4455;\n",
              "      fill: #D2E3FC;\n",
              "    }\n",
              "\n",
              "    [theme=dark] .colab-df-convert:hover {\n",
              "      background-color: #434B5C;\n",
              "      box-shadow: 0px 1px 3px 1px rgba(0, 0, 0, 0.15);\n",
              "      filter: drop-shadow(0px 1px 2px rgba(0, 0, 0, 0.3));\n",
              "      fill: #FFFFFF;\n",
              "    }\n",
              "  </style>\n",
              "\n",
              "      <script>\n",
              "        const buttonEl =\n",
              "          document.querySelector('#df-a77f74f0-9d54-4fdf-8b8b-b39462cd3aa8 button.colab-df-convert');\n",
              "        buttonEl.style.display =\n",
              "          google.colab.kernel.accessAllowed ? 'block' : 'none';\n",
              "\n",
              "        async function convertToInteractive(key) {\n",
              "          const element = document.querySelector('#df-a77f74f0-9d54-4fdf-8b8b-b39462cd3aa8');\n",
              "          const dataTable =\n",
              "            await google.colab.kernel.invokeFunction('convertToInteractive',\n",
              "                                                     [key], {});\n",
              "          if (!dataTable) return;\n",
              "\n",
              "          const docLinkHtml = 'Like what you see? Visit the ' +\n",
              "            '<a target=\"_blank\" href=https://colab.research.google.com/notebooks/data_table.ipynb>data table notebook</a>'\n",
              "            + ' to learn more about interactive tables.';\n",
              "          element.innerHTML = '';\n",
              "          dataTable['output_type'] = 'display_data';\n",
              "          await google.colab.output.renderOutput(dataTable, element);\n",
              "          const docLink = document.createElement('div');\n",
              "          docLink.innerHTML = docLinkHtml;\n",
              "          element.appendChild(docLink);\n",
              "        }\n",
              "      </script>\n",
              "    </div>\n",
              "  </div>\n",
              "  "
            ]
          },
          "metadata": {},
          "execution_count": 146
        }
      ]
    },
    {
      "cell_type": "code",
      "source": [
        "plt.plot(portable)\n",
        "plt.xticks(np.arange(1980,2020,1),np.arange(1980,2020,1))\n",
        "plt.show();"
      ],
      "metadata": {
        "colab": {
          "base_uri": "https://localhost:8080/",
          "height": 265
        },
        "id": "L58GyUPHlfWN",
        "outputId": "60601934-c8f3-4f8e-90d1-38ca50471834"
      },
      "execution_count": null,
      "outputs": [
        {
          "output_type": "display_data",
          "data": {
            "text/plain": [
              "<Figure size 432x288 with 1 Axes>"
            ],
            "image/png": "[encoded data removed]"
          },
          "metadata": {
            "needs_background": "light"
          }
        }
      ]
    },
    {
      "cell_type": "code",
      "source": [
        "graph_data = pd.DataFrame(df, columns = ['Platform','Year','Sales_sum'])\n",
        "dat = graph_data.groupby('Platform')\n",
        "# sns.scatterplot(data = df, x=df['Year'],y=df['Platform'], hue = 'Platform')\n",
        "# plt.legend()\n",
        "# plt.show();\n",
        "\n",
        "# drop_data = df[df['Platform'].str.contains('PCFX|GG|TG16|3DO|WS|SCD|NG')].index # 갯수 미만의 장르는 삭제"
      ],
      "metadata": {
        "id": "kaae2H29dfNp"
      },
      "execution_count": null,
      "outputs": []
    },
    {
      "cell_type": "code",
      "source": [
        "sns.pointplot(data = graph_data, x='Sales_sum', y='Year',hue='Platform')\n",
        "plt.legend()\n",
        "plt.show();\n",
        "# ['Potarble','Consol','PC']"
      ],
      "metadata": {
        "colab": {
          "base_uri": "https://localhost:8080/",
          "height": 280
        },
        "id": "JEEsmaZ9gZFo",
        "outputId": "8d2f69c8-6b10-4582-e637-b3471291afa3"
      },
      "execution_count": null,
      "outputs": [
        {
          "output_type": "display_data",
          "data": {
            "text/plain": [
              "<Figure size 432x288 with 1 Axes>"
            ],
            "image/png": "[encoded data removed]"
          },
          "metadata": {
            "needs_background": "light"
          }
        }
      ]
    }
  ]
}